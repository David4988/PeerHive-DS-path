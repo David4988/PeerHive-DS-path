{
 "cells": [
  {
   "cell_type": "markdown",
   "id": "b511d879",
   "metadata": {},
   "source": [
    "## Basic Imports"
   ]
  },
  {
   "cell_type": "code",
   "execution_count": 2,
   "id": "daba3371",
   "metadata": {},
   "outputs": [
    {
     "name": "stderr",
     "output_type": "stream",
     "text": [
      "[nltk_data] Downloading package vader_lexicon to\n",
      "[nltk_data]     C:\\Users\\Hp\\AppData\\Roaming\\nltk_data...\n",
      "[nltk_data]   Package vader_lexicon is already up-to-date!\n"
     ]
    },
    {
     "data": {
      "text/plain": [
       "True"
      ]
     },
     "execution_count": 2,
     "metadata": {},
     "output_type": "execute_result"
    }
   ],
   "source": [
    "import nltk; nltk.download('vader_lexicon')"
   ]
  },
  {
   "cell_type": "code",
   "execution_count": 3,
   "id": "b3089055",
   "metadata": {},
   "outputs": [],
   "source": [
    "import os, pandas as pd\n",
    "from nltk.sentiment import SentimentIntensityAnalyzer\n",
    "from torchvision.datasets.utils import download_url\n",
    "from tqdm import tqdm"
   ]
  },
  {
   "cell_type": "markdown",
   "id": "3292d658",
   "metadata": {},
   "source": [
    "## Step 1: Load Flickr30k"
   ]
  },
  {
   "cell_type": "code",
   "execution_count": 4,
   "id": "db0275d4",
   "metadata": {},
   "outputs": [],
   "source": [
    "df_flickr_raw = pd.read_csv(\"../data/captions.txt\", names=[\"image_name\", \"comment_number\", \"comment\"], skiprows=1)\n",
    "\n",
    "sia = SentimentIntensityAnalyzer()\n",
    "\n",
    "flickr_data = []\n",
    "for _, row in df_flickr_raw.iterrows():\n",
    "    caption = str(row[\"comment\"]).strip()\n",
    "    if caption.lower() == \"nan\" or caption == \"\":\n",
    "        continue  # skip empty captions\n",
    "\n",
    "    sentiment = sia.polarity_scores(caption)['compound']\n",
    "    label = \"positive\" if sentiment > 0.2 else \"negative\" if sentiment < -0.2 else \"neutral\"\n",
    "\n",
    "    flickr_data.append({\n",
    "        \"image_path\": os.path.join(\"../data/flickr30k_images\", row[\"image_name\"]),\n",
    "        \"caption\": caption,\n",
    "        \"text_sentiment\": label,\n",
    "        \"image_sentiment\": \"neutral\",\n",
    "        \"source\": \"flickr\"\n",
    "    })\n",
    "\n",
    "df_flickr = pd.DataFrame(flickr_data)"
   ]
  },
  {
   "cell_type": "code",
   "execution_count": 5,
   "id": "2240df8d",
   "metadata": {},
   "outputs": [
    {
     "data": {
      "text/html": [
       "<div>\n",
       "<style scoped>\n",
       "    .dataframe tbody tr th:only-of-type {\n",
       "        vertical-align: middle;\n",
       "    }\n",
       "\n",
       "    .dataframe tbody tr th {\n",
       "        vertical-align: top;\n",
       "    }\n",
       "\n",
       "    .dataframe thead th {\n",
       "        text-align: right;\n",
       "    }\n",
       "</style>\n",
       "<table border=\"1\" class=\"dataframe\">\n",
       "  <thead>\n",
       "    <tr style=\"text-align: right;\">\n",
       "      <th></th>\n",
       "      <th>image_path</th>\n",
       "      <th>caption</th>\n",
       "      <th>text_sentiment</th>\n",
       "      <th>image_sentiment</th>\n",
       "      <th>source</th>\n",
       "    </tr>\n",
       "  </thead>\n",
       "  <tbody>\n",
       "    <tr>\n",
       "      <th>0</th>\n",
       "      <td>../data/flickr30k_images\\1000092795.jpg</td>\n",
       "      <td>Two young guys with shaggy hair look at their ...</td>\n",
       "      <td>neutral</td>\n",
       "      <td>neutral</td>\n",
       "      <td>flickr</td>\n",
       "    </tr>\n",
       "    <tr>\n",
       "      <th>1</th>\n",
       "      <td>../data/flickr30k_images\\1000092795.jpg</td>\n",
       "      <td>Two young  White males are outside near many b...</td>\n",
       "      <td>neutral</td>\n",
       "      <td>neutral</td>\n",
       "      <td>flickr</td>\n",
       "    </tr>\n",
       "    <tr>\n",
       "      <th>2</th>\n",
       "      <td>../data/flickr30k_images\\1000092795.jpg</td>\n",
       "      <td>Two men in green shirts are standing in a yard .</td>\n",
       "      <td>neutral</td>\n",
       "      <td>neutral</td>\n",
       "      <td>flickr</td>\n",
       "    </tr>\n",
       "    <tr>\n",
       "      <th>3</th>\n",
       "      <td>../data/flickr30k_images\\1000092795.jpg</td>\n",
       "      <td>A man in a blue shirt standing in a garden .</td>\n",
       "      <td>neutral</td>\n",
       "      <td>neutral</td>\n",
       "      <td>flickr</td>\n",
       "    </tr>\n",
       "    <tr>\n",
       "      <th>4</th>\n",
       "      <td>../data/flickr30k_images\\1000092795.jpg</td>\n",
       "      <td>Two friends enjoy time spent together .</td>\n",
       "      <td>positive</td>\n",
       "      <td>neutral</td>\n",
       "      <td>flickr</td>\n",
       "    </tr>\n",
       "  </tbody>\n",
       "</table>\n",
       "</div>"
      ],
      "text/plain": [
       "                                image_path  \\\n",
       "0  ../data/flickr30k_images\\1000092795.jpg   \n",
       "1  ../data/flickr30k_images\\1000092795.jpg   \n",
       "2  ../data/flickr30k_images\\1000092795.jpg   \n",
       "3  ../data/flickr30k_images\\1000092795.jpg   \n",
       "4  ../data/flickr30k_images\\1000092795.jpg   \n",
       "\n",
       "                                             caption text_sentiment  \\\n",
       "0  Two young guys with shaggy hair look at their ...        neutral   \n",
       "1  Two young  White males are outside near many b...        neutral   \n",
       "2   Two men in green shirts are standing in a yard .        neutral   \n",
       "3       A man in a blue shirt standing in a garden .        neutral   \n",
       "4            Two friends enjoy time spent together .       positive   \n",
       "\n",
       "  image_sentiment  source  \n",
       "0         neutral  flickr  \n",
       "1         neutral  flickr  \n",
       "2         neutral  flickr  \n",
       "3         neutral  flickr  \n",
       "4         neutral  flickr  "
      ]
     },
     "execution_count": 5,
     "metadata": {},
     "output_type": "execute_result"
    }
   ],
   "source": [
    "df_flickr.head()"
   ]
  },
  {
   "cell_type": "markdown",
   "id": "640c8bfa",
   "metadata": {},
   "source": [
    "## STEP 2: Load Memotion"
   ]
  },
  {
   "cell_type": "code",
   "execution_count": 6,
   "id": "a3a1a969",
   "metadata": {},
   "outputs": [
    {
     "data": {
      "text/html": [
       "<div>\n",
       "<style scoped>\n",
       "    .dataframe tbody tr th:only-of-type {\n",
       "        vertical-align: middle;\n",
       "    }\n",
       "\n",
       "    .dataframe tbody tr th {\n",
       "        vertical-align: top;\n",
       "    }\n",
       "\n",
       "    .dataframe thead th {\n",
       "        text-align: right;\n",
       "    }\n",
       "</style>\n",
       "<table border=\"1\" class=\"dataframe\">\n",
       "  <thead>\n",
       "    <tr style=\"text-align: right;\">\n",
       "      <th></th>\n",
       "      <th>Unnamed: 0</th>\n",
       "      <th>image_name</th>\n",
       "      <th>text_ocr</th>\n",
       "      <th>text_corrected</th>\n",
       "      <th>humour</th>\n",
       "      <th>sarcasm</th>\n",
       "      <th>offensive</th>\n",
       "      <th>motivational</th>\n",
       "      <th>overall_sentiment</th>\n",
       "    </tr>\n",
       "  </thead>\n",
       "  <tbody>\n",
       "    <tr>\n",
       "      <th>0</th>\n",
       "      <td>0</td>\n",
       "      <td>image_1.jpg</td>\n",
       "      <td>LOOK THERE MY FRIEND LIGHTYEAR NOW ALL SOHALIK...</td>\n",
       "      <td>LOOK THERE MY FRIEND LIGHTYEAR NOW ALL SOHALIK...</td>\n",
       "      <td>hilarious</td>\n",
       "      <td>general</td>\n",
       "      <td>not_offensive</td>\n",
       "      <td>not_motivational</td>\n",
       "      <td>very_positive</td>\n",
       "    </tr>\n",
       "    <tr>\n",
       "      <th>1</th>\n",
       "      <td>1</td>\n",
       "      <td>image_2.jpeg</td>\n",
       "      <td>The best of #10 YearChallenge! Completed in le...</td>\n",
       "      <td>The best of #10 YearChallenge! Completed in le...</td>\n",
       "      <td>not_funny</td>\n",
       "      <td>general</td>\n",
       "      <td>not_offensive</td>\n",
       "      <td>motivational</td>\n",
       "      <td>very_positive</td>\n",
       "    </tr>\n",
       "    <tr>\n",
       "      <th>2</th>\n",
       "      <td>2</td>\n",
       "      <td>image_3.JPG</td>\n",
       "      <td>Sam Thorne @Strippin ( Follow Follow Saw every...</td>\n",
       "      <td>Sam Thorne @Strippin ( Follow Follow Saw every...</td>\n",
       "      <td>very_funny</td>\n",
       "      <td>not_sarcastic</td>\n",
       "      <td>not_offensive</td>\n",
       "      <td>not_motivational</td>\n",
       "      <td>positive</td>\n",
       "    </tr>\n",
       "    <tr>\n",
       "      <th>3</th>\n",
       "      <td>3</td>\n",
       "      <td>image_4.png</td>\n",
       "      <td>10 Year Challenge - Sweet Dee Edition</td>\n",
       "      <td>10 Year Challenge - Sweet Dee Edition</td>\n",
       "      <td>very_funny</td>\n",
       "      <td>twisted_meaning</td>\n",
       "      <td>very_offensive</td>\n",
       "      <td>motivational</td>\n",
       "      <td>positive</td>\n",
       "    </tr>\n",
       "    <tr>\n",
       "      <th>4</th>\n",
       "      <td>4</td>\n",
       "      <td>image_5.png</td>\n",
       "      <td>10 YEAR CHALLENGE WITH NO FILTER 47 Hilarious ...</td>\n",
       "      <td>10 YEAR CHALLENGE WITH NO FILTER 47 Hilarious ...</td>\n",
       "      <td>hilarious</td>\n",
       "      <td>very_twisted</td>\n",
       "      <td>very_offensive</td>\n",
       "      <td>not_motivational</td>\n",
       "      <td>neutral</td>\n",
       "    </tr>\n",
       "  </tbody>\n",
       "</table>\n",
       "</div>"
      ],
      "text/plain": [
       "   Unnamed: 0    image_name  \\\n",
       "0           0   image_1.jpg   \n",
       "1           1  image_2.jpeg   \n",
       "2           2   image_3.JPG   \n",
       "3           3   image_4.png   \n",
       "4           4   image_5.png   \n",
       "\n",
       "                                            text_ocr  \\\n",
       "0  LOOK THERE MY FRIEND LIGHTYEAR NOW ALL SOHALIK...   \n",
       "1  The best of #10 YearChallenge! Completed in le...   \n",
       "2  Sam Thorne @Strippin ( Follow Follow Saw every...   \n",
       "3              10 Year Challenge - Sweet Dee Edition   \n",
       "4  10 YEAR CHALLENGE WITH NO FILTER 47 Hilarious ...   \n",
       "\n",
       "                                      text_corrected      humour  \\\n",
       "0  LOOK THERE MY FRIEND LIGHTYEAR NOW ALL SOHALIK...   hilarious   \n",
       "1  The best of #10 YearChallenge! Completed in le...   not_funny   \n",
       "2  Sam Thorne @Strippin ( Follow Follow Saw every...  very_funny   \n",
       "3              10 Year Challenge - Sweet Dee Edition  very_funny   \n",
       "4  10 YEAR CHALLENGE WITH NO FILTER 47 Hilarious ...   hilarious   \n",
       "\n",
       "           sarcasm       offensive      motivational overall_sentiment  \n",
       "0          general   not_offensive  not_motivational     very_positive  \n",
       "1          general   not_offensive      motivational     very_positive  \n",
       "2    not_sarcastic   not_offensive  not_motivational          positive  \n",
       "3  twisted_meaning  very_offensive      motivational          positive  \n",
       "4     very_twisted  very_offensive  not_motivational           neutral  "
      ]
     },
     "execution_count": 6,
     "metadata": {},
     "output_type": "execute_result"
    }
   ],
   "source": [
    "df_memotion_raw = pd.read_csv(\"../data/Memotion_Dataset/labels.csv\")\n",
    "df_memotion_raw.head()"
   ]
  },
  {
   "cell_type": "code",
   "execution_count": 7,
   "id": "b6db121e",
   "metadata": {},
   "outputs": [],
   "source": [
    "memotion_data = []\n",
    "for _, row in df_memotion_raw.iterrows():\n",
    "    caption_col = \"text_corrected\" if \"text_corrected\" in df_memotion_raw.columns else \"text\"\n",
    "    caption = str(row[caption_col]).strip()\n",
    "    if caption.lower() == \"nan\" or caption == \"\":\n",
    "        continue\n",
    "\n",
    "    sentiment = sia.polarity_scores(caption)['compound']\n",
    "    label = \"positive\" if sentiment > 0.2 else \"negative\" if sentiment < -0.2 else \"neutral\"\n",
    "\n",
    "    memotion_data.append({\n",
    "        \"image_path\": os.path.join(\"../data/Memotion_Dataset/images\", row[\"image_name\"]),\n",
    "        \"caption\": caption,\n",
    "        \"text_sentiment\": label,\n",
    "        \"image_sentiment\": \"neutral\",\n",
    "        \"source\": \"memotion\"\n",
    "    })\n",
    "\n",
    "df_memotion = pd.DataFrame(memotion_data)"
   ]
  },
  {
   "cell_type": "markdown",
   "id": "91b7c38e",
   "metadata": {},
   "source": [
    "## 💾 STEP 4: Merge + Save"
   ]
  },
  {
   "cell_type": "code",
   "execution_count": 8,
   "id": "ba1a0d8e",
   "metadata": {},
   "outputs": [
    {
     "name": "stdout",
     "output_type": "stream",
     "text": [
      "Combined dataset shape: (165902, 5)\n",
      "                                    image_path  \\\n",
      "95567  ../data/flickr30k_images\\4295355954.jpg   \n",
      "45167  ../data/flickr30k_images\\2836360729.jpg   \n",
      "89416  ../data/flickr30k_images\\3974197857.jpg   \n",
      "90537  ../data/flickr30k_images\\4032257125.jpg   \n",
      "21593  ../data/flickr30k_images\\2243345188.jpg   \n",
      "\n",
      "                                                 caption text_sentiment  \\\n",
      "95567  An older woman paints with watercolors in a mo...       negative   \n",
      "45167  The smiling woman at the beach is buried in se...       positive   \n",
      "89416  Men dressed up in blue uniforms standing in fo...        neutral   \n",
      "90537  A girl with love tattooed on the inside of her...       positive   \n",
      "21593  2 people in long pants and long-sleeved shirts...        neutral   \n",
      "\n",
      "      image_sentiment  source  \n",
      "95567         neutral  flickr  \n",
      "45167         neutral  flickr  \n",
      "89416         neutral  flickr  \n",
      "90537         neutral  flickr  \n",
      "21593         neutral  flickr  \n"
     ]
    }
   ],
   "source": [
    "df_combined = pd.concat([df_flickr, df_memotion], ignore_index=True)\n",
    "\n",
    "print(\"Combined dataset shape:\", df_combined.shape)\n",
    "print(df_combined.sample(5))\n",
    "\n",
    "df_combined.to_csv(\"fusion_dataset.csv\", index=False)"
   ]
  },
  {
   "cell_type": "markdown",
   "id": "b2afc79d",
   "metadata": {},
   "source": [
    "## 🔥 CLIP Vision Sentiment Injection 🔥"
   ]
  },
  {
   "cell_type": "markdown",
   "id": "f289f65a",
   "metadata": {},
   "source": [
    "### Imports"
   ]
  },
  {
   "cell_type": "code",
   "execution_count": 9,
   "id": "b66c5ff4",
   "metadata": {},
   "outputs": [],
   "source": [
    "import open_clip\n",
    "from PIL import Image\n",
    "import torch\n",
    "from sklearn.metrics.pairwise import cosine_similarity\n",
    "import numpy as np\n",
    "import os\n",
    "from tqdm.notebook import tqdm "
   ]
  },
  {
   "cell_type": "markdown",
   "id": "0d3e7789",
   "metadata": {},
   "source": [
    "### Load model & preprocess"
   ]
  },
  {
   "cell_type": "code",
   "execution_count": 10,
   "id": "7c48092f",
   "metadata": {},
   "outputs": [
    {
     "name": "stderr",
     "output_type": "stream",
     "text": [
      "c:\\Users\\Hp\\Projects\\PEER_HIVE_DS\\peerhive-env\\Lib\\site-packages\\open_clip\\factory.py:450: UserWarning: QuickGELU mismatch between final model config (quick_gelu=False) and pretrained tag 'openai' (quick_gelu=True).\n",
      "  warnings.warn(\n"
     ]
    }
   ],
   "source": [
    "model, _, preprocess = open_clip.create_model_and_transforms('ViT-B-32', pretrained='openai')\n",
    "tokenizer = open_clip.get_tokenizer('ViT-B-32')"
   ]
  },
  {
   "cell_type": "code",
   "execution_count": 11,
   "id": "07d7aafa",
   "metadata": {},
   "outputs": [
    {
     "name": "stdout",
     "output_type": "stream",
     "text": [
      "11.8\n",
      "True\n",
      "Quadro P520\n"
     ]
    }
   ],
   "source": [
    "import torch\n",
    "print(torch.version.cuda)  # Should be 11.8\n",
    "print(torch.cuda.is_available())  # Should be True\n",
    "print(torch.cuda.get_device_name(0) if torch.cuda.is_available() else \"No GPU detected\")\n"
   ]
  },
  {
   "cell_type": "code",
   "execution_count": 12,
   "id": "464d732f",
   "metadata": {},
   "outputs": [
    {
     "name": "stdout",
     "output_type": "stream",
     "text": [
      "cuda\n"
     ]
    }
   ],
   "source": [
    "device = \"cuda\" if torch.cuda.is_available() else \"cpu\"\n",
    "model = model.to(device)\n",
    "print(device)"
   ]
  },
  {
   "cell_type": "markdown",
   "id": "1469c940",
   "metadata": {},
   "source": [
    "### Zero-shot candidate sentiment labels"
   ]
  },
  {
   "cell_type": "code",
   "execution_count": 13,
   "id": "843586be",
   "metadata": {},
   "outputs": [],
   "source": [
    "sentiment_labels = [\"happy\", \"sad\", \"angry\", \"neutral\", \"fear\", \"surprise\", \"disgust\"]"
   ]
  },
  {
   "cell_type": "markdown",
   "id": "5d79682c",
   "metadata": {},
   "source": [
    "### Encode emotion labels"
   ]
  },
  {
   "cell_type": "code",
   "execution_count": 14,
   "id": "c43d61b4",
   "metadata": {},
   "outputs": [],
   "source": [
    "with torch.no_grad():\n",
    "    text_tokens = tokenizer(sentiment_labels).to(device)\n",
    "    text_embeddings = model.encode_text(text_tokens)\n",
    "    text_embeddings /= text_embeddings.norm(dim=-1, keepdim=True)"
   ]
  },
  {
   "cell_type": "markdown",
   "id": "a5f372f6",
   "metadata": {},
   "source": [
    "### Helper Function"
   ]
  },
  {
   "cell_type": "code",
   "execution_count": 15,
   "id": "6162e1e5",
   "metadata": {},
   "outputs": [],
   "source": [
    "def get_clip_image_sentiment(img_path):\n",
    "    \"\"\"\n",
    "    Takes an image path, returns (best_sentiment_label, similarity_score)\n",
    "    \"\"\"\n",
    "    try:\n",
    "        image = preprocess(Image.open(img_path).convert(\"RGB\")).unsqueeze(0).to(device)\n",
    "        with torch.no_grad():\n",
    "            image_features = model.encode_image(image)\n",
    "            image_features /= image_features.norm(dim=-1, keepdim=True)\n",
    "\n",
    "            similarity = image_features @ text_embeddings.T\n",
    "            best_idx = similarity.argmax().item()\n",
    "            return sentiment_labels[best_idx], similarity[0, best_idx].item()\n",
    "    except:\n",
    "        return None, None"
   ]
  },
  {
   "cell_type": "code",
   "execution_count": 16,
   "id": "654e22f5",
   "metadata": {},
   "outputs": [],
   "source": [
    "def inject_clip_sentiment(df, image_col=\"image_path\"):\n",
    "    \"\"\"\n",
    "    Adds CLIP-based sentiment predictions & similarity scores to DataFrame.\n",
    "    \"\"\"\n",
    "    sentiments = []\n",
    "    scores = []\n",
    "    for img_path in tqdm(df[image_col], desc=\"Processing images\"):\n",
    "        label, score = get_clip_image_sentiment(img_path)\n",
    "        sentiments.append(label)\n",
    "        scores.append(score)\n",
    "\n",
    "    df[\"image_sentiment\"] = sentiments\n",
    "    df[\"clip_similarity\"] = scores\n",
    "    return df"
   ]
  },
  {
   "cell_type": "code",
   "execution_count": 17,
   "id": "abd48b83",
   "metadata": {},
   "outputs": [
    {
     "data": {
      "application/vnd.jupyter.widget-view+json": {
       "model_id": "2da10fe83aec49d7a4c0759eec1bbeff",
       "version_major": 2,
       "version_minor": 0
      },
      "text/plain": [
       "Processing images:   0%|          | 0/165902 [00:00<?, ?it/s]"
      ]
     },
     "metadata": {},
     "output_type": "display_data"
    },
    {
     "name": "stderr",
     "output_type": "stream",
     "text": [
      "c:\\Users\\Hp\\Projects\\PEER_HIVE_DS\\peerhive-env\\Lib\\site-packages\\PIL\\Image.py:1054: UserWarning: Palette images with Transparency expressed in bytes should be converted to RGBA images\n",
      "  warnings.warn(\n"
     ]
    }
   ],
   "source": [
    "df = pd.read_csv(\"fusion_dataset.csv\")\n",
    "df = inject_clip_sentiment(df, image_col=\"image_path\")\n",
    "df.to_csv(\"fusion_dataset_with_clip.csv\", index=False)"
   ]
  },
  {
   "cell_type": "code",
   "execution_count": 18,
   "id": "d8c7fa4a",
   "metadata": {},
   "outputs": [
    {
     "data": {
      "text/html": [
       "<div>\n",
       "<style scoped>\n",
       "    .dataframe tbody tr th:only-of-type {\n",
       "        vertical-align: middle;\n",
       "    }\n",
       "\n",
       "    .dataframe tbody tr th {\n",
       "        vertical-align: top;\n",
       "    }\n",
       "\n",
       "    .dataframe thead th {\n",
       "        text-align: right;\n",
       "    }\n",
       "</style>\n",
       "<table border=\"1\" class=\"dataframe\">\n",
       "  <thead>\n",
       "    <tr style=\"text-align: right;\">\n",
       "      <th></th>\n",
       "      <th>image_path</th>\n",
       "      <th>caption</th>\n",
       "      <th>text_sentiment</th>\n",
       "      <th>image_sentiment</th>\n",
       "      <th>source</th>\n",
       "      <th>clip_similarity</th>\n",
       "    </tr>\n",
       "  </thead>\n",
       "  <tbody>\n",
       "    <tr>\n",
       "      <th>0</th>\n",
       "      <td>../data/flickr30k_images\\1000092795.jpg</td>\n",
       "      <td>Two young guys with shaggy hair look at their ...</td>\n",
       "      <td>neutral</td>\n",
       "      <td>surprise</td>\n",
       "      <td>flickr</td>\n",
       "      <td>0.216297</td>\n",
       "    </tr>\n",
       "    <tr>\n",
       "      <th>1</th>\n",
       "      <td>../data/flickr30k_images\\1000092795.jpg</td>\n",
       "      <td>Two young  White males are outside near many b...</td>\n",
       "      <td>neutral</td>\n",
       "      <td>surprise</td>\n",
       "      <td>flickr</td>\n",
       "      <td>0.216297</td>\n",
       "    </tr>\n",
       "    <tr>\n",
       "      <th>2</th>\n",
       "      <td>../data/flickr30k_images\\1000092795.jpg</td>\n",
       "      <td>Two men in green shirts are standing in a yard .</td>\n",
       "      <td>neutral</td>\n",
       "      <td>surprise</td>\n",
       "      <td>flickr</td>\n",
       "      <td>0.216297</td>\n",
       "    </tr>\n",
       "    <tr>\n",
       "      <th>3</th>\n",
       "      <td>../data/flickr30k_images\\1000092795.jpg</td>\n",
       "      <td>A man in a blue shirt standing in a garden .</td>\n",
       "      <td>neutral</td>\n",
       "      <td>surprise</td>\n",
       "      <td>flickr</td>\n",
       "      <td>0.216297</td>\n",
       "    </tr>\n",
       "    <tr>\n",
       "      <th>4</th>\n",
       "      <td>../data/flickr30k_images\\1000092795.jpg</td>\n",
       "      <td>Two friends enjoy time spent together .</td>\n",
       "      <td>positive</td>\n",
       "      <td>surprise</td>\n",
       "      <td>flickr</td>\n",
       "      <td>0.216297</td>\n",
       "    </tr>\n",
       "  </tbody>\n",
       "</table>\n",
       "</div>"
      ],
      "text/plain": [
       "                                image_path  \\\n",
       "0  ../data/flickr30k_images\\1000092795.jpg   \n",
       "1  ../data/flickr30k_images\\1000092795.jpg   \n",
       "2  ../data/flickr30k_images\\1000092795.jpg   \n",
       "3  ../data/flickr30k_images\\1000092795.jpg   \n",
       "4  ../data/flickr30k_images\\1000092795.jpg   \n",
       "\n",
       "                                             caption text_sentiment  \\\n",
       "0  Two young guys with shaggy hair look at their ...        neutral   \n",
       "1  Two young  White males are outside near many b...        neutral   \n",
       "2   Two men in green shirts are standing in a yard .        neutral   \n",
       "3       A man in a blue shirt standing in a garden .        neutral   \n",
       "4            Two friends enjoy time spent together .       positive   \n",
       "\n",
       "  image_sentiment  source  clip_similarity  \n",
       "0        surprise  flickr         0.216297  \n",
       "1        surprise  flickr         0.216297  \n",
       "2        surprise  flickr         0.216297  \n",
       "3        surprise  flickr         0.216297  \n",
       "4        surprise  flickr         0.216297  "
      ]
     },
     "execution_count": 18,
     "metadata": {},
     "output_type": "execute_result"
    }
   ],
   "source": [
    "df.head()"
   ]
  }
 ],
 "metadata": {
  "kernelspec": {
   "display_name": "peerhive-env",
   "language": "python",
   "name": "peerhive-env"
  },
  "language_info": {
   "codemirror_mode": {
    "name": "ipython",
    "version": 3
   },
   "file_extension": ".py",
   "mimetype": "text/x-python",
   "name": "python",
   "nbconvert_exporter": "python",
   "pygments_lexer": "ipython3",
   "version": "3.11.7"
  }
 },
 "nbformat": 4,
 "nbformat_minor": 5
}
