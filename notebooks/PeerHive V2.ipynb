{
 "cells": [
  {
   "cell_type": "markdown",
   "id": "87a4d550",
   "metadata": {},
   "source": [
    "## PeerHive V2"
   ]
  },
  {
   "cell_type": "markdown",
   "id": "d3aa77ba",
   "metadata": {},
   "source": [
    "### PeerHive V2:Sprint Kick-off 🔥"
   ]
  },
  {
   "cell_type": "markdown",
   "id": "81be53ca",
   "metadata": {},
   "source": [
    "#### Imports📚"
   ]
  },
  {
   "cell_type": "code",
   "execution_count": 16,
   "id": "888457ea",
   "metadata": {},
   "outputs": [],
   "source": [
    "import torch\n",
    "import torch.nn as nn\n",
    "from torch.utils.data import DataLoader, Dataset\n",
    "import pandas as pd\n",
    "import numpy as np\n",
    "import matplotlib.pyplot as plt\n",
    "from sklearn.isotonic import IsotonicRegression\n",
    "from sklearn.linear_model import LogisticRegression # For Platt Scaling\n"
   ]
  },
  {
   "cell_type": "markdown",
   "id": "d2c974b7",
   "metadata": {},
   "source": [
    "### Day2:  The \"Brains\" 🧠: Cross-Attention Block"
   ]
  },
  {
   "cell_type": "code",
   "execution_count": 5,
   "id": "3b28194c",
   "metadata": {},
   "outputs": [],
   "source": [
    "class CrossAttentionBlock(nn.Module):\n",
    "    \"\"\"A single block of T->I and I->T cross-attention.\"\"\"\n",
    "    def __init__(self, d_text, d_image, n_heads=8):\n",
    "        super().__init__()\n",
    "        # Text queries, Image keys/values (T->I)\n",
    "        self.text_to_image_attn = nn.MultiheadAttention(\n",
    "            embed_dim=d_text, num_heads=n_heads, kdim=d_image, vdim=d_image, batch_first=True\n",
    "        )\n",
    "        # Image queries, Text keys/values (I->T)\n",
    "        self.image_to_text_attn = nn.MultiheadAttention(\n",
    "            embed_dim=d_image, num_heads=n_heads, kdim=d_text, vdim=d_text, batch_first=True\n",
    "        )\n",
    "        # Simple feed-forward networks for refinement\n",
    "        self.ffn_text = nn.Linear(d_text, d_text)\n",
    "        self.ffn_image = nn.Linear(d_image, d_image)\n",
    "\n",
    "    def forward(self, text_embeds, image_embeds):\n",
    "        # --- Text attends to Image ---\n",
    "        attended_text, _ = self.text_to_image_attn(text_embeds, image_embeds, image_embeds)\n",
    "        \n",
    "        # --- Image attends to Text ---\n",
    "        attended_image, _ = self.image_to_text_attn(image_embeds, text_embeds, text_embeds)\n",
    "\n",
    "        # Refine and return\n",
    "        refined_text = self.ffn_text(attended_text)\n",
    "        refined_image = self.ffn_image(attended_image)\n",
    "        \n",
    "        return refined_text, refined_image"
   ]
  },
  {
   "cell_type": "markdown",
   "id": "965be2a0",
   "metadata": {},
   "source": [
    "#### Test Script"
   ]
  },
  {
   "cell_type": "code",
   "execution_count": 3,
   "id": "4c7a455c",
   "metadata": {},
   "outputs": [
    {
     "name": "stdout",
     "output_type": "stream",
     "text": [
      "--- INPUT SHAPES ---\n",
      "Text Embeddings:  torch.Size([16, 30, 768])\n",
      "Image Embeddings: torch.Size([16, 50, 512])\n",
      "\n",
      "--- OUTPUT SHAPES ---\n",
      "Refined Text:     torch.Size([16, 30, 768])\n",
      "Refined Image:    torch.Size([16, 50, 512])\n",
      "\n",
      "✅ SUCCESS: Input and output shapes match perfectly. The block is working!\n"
     ]
    }
   ],
   "source": [
    "import torch\n",
    "import torch.nn as nn\n",
    "\n",
    "# --- The Class from Yesterday ---\n",
    "class CrossAttentionBlock(nn.Module):\n",
    "    \"\"\"A single block of T->I and I->T cross-attention.\"\"\"\n",
    "    def __init__(self, d_text, d_image, n_heads=8):\n",
    "        super().__init__()\n",
    "        # Text queries, Image keys/values (T->I)\n",
    "        self.text_to_image_attn = nn.MultiheadAttention(\n",
    "            embed_dim=d_text, num_heads=n_heads, kdim=d_image, vdim=d_image, batch_first=True\n",
    "        )\n",
    "        # Image queries, Text keys/values (I->T)\n",
    "        self.image_to_text_attn = nn.MultiheadAttention(\n",
    "            embed_dim=d_image, num_heads=n_heads, kdim=d_text, vdim=d_text, batch_first=True\n",
    "        )\n",
    "        # Simple feed-forward networks for refinement\n",
    "        self.ffn_text = nn.Linear(d_text, d_text)\n",
    "        self.ffn_image = nn.Linear(d_image, d_image)\n",
    "\n",
    "    def forward(self, text_embeds, image_embeds):\n",
    "        # --- Text attends to Image ---\n",
    "        attended_text, _ = self.text_to_image_attn(text_embeds, image_embeds, image_embeds)\n",
    "        \n",
    "        # --- Image attends to Text ---\n",
    "        attended_image, _ = self.image_to_text_attn(image_embeds, text_embeds, text_embeds)\n",
    "\n",
    "        # Refine and return\n",
    "        refined_text = self.ffn_text(attended_text)\n",
    "        refined_image = self.ffn_image(attended_image)\n",
    "        \n",
    "        return refined_text, refined_image\n",
    "\n",
    "# --- The Sanity Check ---\n",
    "if __name__ == \"__main__\":\n",
    "    # --- Configuration ---\n",
    "    BATCH_SIZE = 16  # How many posts to process at once\n",
    "    \n",
    "    # Text: Pretend DistilBERT gives us 30 tokens, each 768-dim\n",
    "    TEXT_TOKENS = 30\n",
    "    TEXT_DIM = 768\n",
    "    \n",
    "    # Image: Pretend CLIP gives us 50 patches, each 512-dim\n",
    "    IMAGE_PATCHES = 50\n",
    "    IMAGE_DIM = 512\n",
    "\n",
    "    # --- Dummy Data ---\n",
    "    dummy_text_embeddings = torch.randn(BATCH_SIZE, TEXT_TOKENS, TEXT_DIM)\n",
    "    dummy_image_embeddings = torch.randn(BATCH_SIZE, IMAGE_PATCHES, IMAGE_DIM)\n",
    "    \n",
    "    print(\"--- INPUT SHAPES ---\")\n",
    "    print(f\"Text Embeddings:  {dummy_text_embeddings.shape}\")\n",
    "    print(f\"Image Embeddings: {dummy_image_embeddings.shape}\\n\")\n",
    "\n",
    "    # --- Model Instantiation & Forward Pass ---\n",
    "    model = CrossAttentionBlock(d_text=TEXT_DIM, d_image=IMAGE_DIM, n_heads=8)\n",
    "    refined_text, refined_image = model(dummy_text_embeddings, dummy_image_embeddings)\n",
    "\n",
    "    # --- Verification ---\n",
    "    print(\"--- OUTPUT SHAPES ---\")\n",
    "    print(f\"Refined Text:     {refined_text.shape}\")\n",
    "    print(f\"Refined Image:    {refined_image.shape}\\n\")\n",
    "\n",
    "    # --- Conclusion ---\n",
    "    if (refined_text.shape == dummy_text_embeddings.shape and \n",
    "        refined_image.shape == dummy_image_embeddings.shape):\n",
    "        print(\"✅ SUCCESS: Input and output shapes match perfectly. The block is working!\")\n",
    "    else:\n",
    "        print(\"❌ FAILURE: Shape mismatch detected.\")"
   ]
  },
  {
   "cell_type": "markdown",
   "id": "b0d26adf",
   "metadata": {},
   "source": [
    "### Day 3:The Full Assembly 🏗️: Building the `FusionModel`"
   ]
  },
  {
   "cell_type": "markdown",
   "id": "a984dae5",
   "metadata": {},
   "source": [
    "We're wrapping our CrossAttentionBlock in a complete FusionModel. This model will take in the raw embeddings, work its cross-attention magic, and then make a final prediction about the burnout zone.\n",
    "\n",
    "    Step 1: The embeddings go into the CrossAttentionBlock.\n",
    "\n",
    "    Step 2: We pool the refined outputs to create a single summary vector for each modality.\n",
    "\n",
    "    Step 3: We concatenate them into the almighty z_fused vector.\n",
    "\n",
    "    Step 4: We pass z_fused to our final classification head to get the burnout scores!"
   ]
  },
  {
   "cell_type": "code",
   "execution_count": 6,
   "id": "8151fb3b",
   "metadata": {},
   "outputs": [],
   "source": [
    "class FusionModel(nn.Module):\n",
    "    \"\"\"\n",
    "    The full fusion model.\n",
    "    Wraps the CrossAttentionBlock and adds a classification head.\n",
    "    \"\"\"\n",
    "    def __init__(self, d_text, d_image, d_fusion=512, n_heads=8, n_classes=4):\n",
    "        super().__init__()\n",
    "        self.cross_attention = CrossAttentionBlock(d_text, d_image, n_heads)\n",
    "        \n",
    "        # The MLP head that takes the fused vector and classifies it\n",
    "        self.fusion_head = nn.Sequential(\n",
    "            nn.Linear(d_text + d_image, d_fusion),\n",
    "            nn.ReLU(),\n",
    "            nn.Dropout(0.2),\n",
    "            nn.Linear(d_fusion, n_classes)\n",
    "        )\n",
    "\n",
    "    def forward(self, text_embeds, image_embeds):\n",
    "        # 1. Get refined embeddings from the cross-attention block\n",
    "        refined_text, refined_image = self.cross_attention(text_embeds, image_embeds)\n",
    "        \n",
    "        # 2. Pool the outputs to get a single vector for each modality\n",
    "        pooled_text = refined_text.mean(dim=1)\n",
    "        pooled_image = refined_image.mean(dim=1)\n",
    "        \n",
    "        # 3. Concatenate to create the fused vector\n",
    "        z_fused = torch.cat([pooled_text, pooled_image], dim=1)\n",
    "        \n",
    "        # 4. Pass through the classification head to get logits\n",
    "        logits = self.fusion_head(z_fused)\n",
    "        \n",
    "        return logits"
   ]
  },
  {
   "cell_type": "markdown",
   "id": "4444010e",
   "metadata": {},
   "source": [
    "#### The Moment of Truth ✅: A Mini Training Loop Sanity Check\n",
    "\n",
    "This is it! We'll run a single, simulated training step. This isn't about getting good results yet; it's about proving that our entire contraption works without exploding. We need to see data flow from end to end, a loss value get calculated, and the model's weights get updated. No errors, no excuses!"
   ]
  },
  {
   "cell_type": "code",
   "execution_count": 7,
   "id": "7167b8f4",
   "metadata": {},
   "outputs": [
    {
     "name": "stdout",
     "output_type": "stream",
     "text": [
      "--- 📥 INPUTS 📥 ---\n",
      "Text Batch Shape:  torch.Size([16, 30, 768])\n",
      "Image Batch Shape: torch.Size([16, 50, 512])\n",
      "Labels Batch Shape: torch.Size([16])\n",
      "\n",
      "--- TRAINING STEP ---\n"
     ]
    }
   ],
   "source": [
    "# --- Configuration ---\n",
    "BATCH_SIZE = 16\n",
    "TEXT_TOKENS = 30\n",
    "TEXT_DIM = 768\n",
    "IMAGE_PATCHES = 50\n",
    "IMAGE_DIM = 512\n",
    "NUM_CLASSES = 4 # calm, stressed, overwhelmed, burned_out\n",
    "\n",
    "# --- Dummy Data ---\n",
    "# Input embeddings\n",
    "dummy_text = torch.randn(BATCH_SIZE, TEXT_TOKENS, TEXT_DIM)\n",
    "dummy_image = torch.randn(BATCH_SIZE, IMAGE_PATCHES, IMAGE_DIM)\n",
    "# Target labels (random integers from 0 to 3)\n",
    "dummy_labels = torch.randint(0, NUM_CLASSES, (BATCH_SIZE,))\n",
    "\n",
    "print(\"--- 📥 INPUTS 📥 ---\")\n",
    "print(f\"Text Batch Shape:  {dummy_text.shape}\")\n",
    "print(f\"Image Batch Shape: {dummy_image.shape}\")\n",
    "print(f\"Labels Batch Shape: {dummy_labels.shape}\\n\")\n",
    "\n",
    "# --- Model, Loss, and Optimizer ---\n",
    "model = FusionModel(d_text=TEXT_DIM, d_image=IMAGE_DIM, n_classes=NUM_CLASSES)\n",
    "loss_fn = nn.CrossEntropyLoss()\n",
    "optimizer = torch.optim.AdamW(model.parameters(), lr=1e-4)\n",
    "\n",
    "# --- ⚙️ A SINGLE TRAINING STEP ⚙️ ---\n",
    "print(\"--- TRAINING STEP ---\")\n",
    "# 1. Zero out gradients\n",
    "optimizer.zero_grad()\n",
    "# 2. Forward pass: get model predictions (logits)\n",
    "logits = model(dummy_text, dummy_image)\n",
    "# 3. Calculate the loss\n",
    "loss = loss_fn(logits, dummy_labels)\n",
    "# 4. Backward pass: compute gradients\n",
    "loss.backward()\n",
    "# 5. Update the model's weights\n",
    "optimizer.step()\n",
    "\n",
    "\n"
   ]
  },
  {
   "cell_type": "markdown",
   "id": "7ec49abb",
   "metadata": {},
   "source": [
    "#### --- 📈 VERIFICATION 📈 ---"
   ]
  },
  {
   "cell_type": "code",
   "execution_count": 8,
   "id": "7f77cb11",
   "metadata": {},
   "outputs": [
    {
     "name": "stdout",
     "output_type": "stream",
     "text": [
      "\n",
      "--- VERIFICATION ---\n",
      "Output Logits Shape: torch.Size([16, 4])\n",
      "Calculated Loss: 1.3850\n",
      "\n",
      "✅ SUCCESS: The model completed a training step without errors!\n",
      "Shapes are correct, loss was calculated, and weights were updated.\n"
     ]
    }
   ],
   "source": [
    "print(\"\\n--- VERIFICATION ---\")\n",
    "print(f\"Output Logits Shape: {logits.shape}\")\n",
    "print(f\"Calculated Loss: {loss.item():.4f}\")\n",
    "\n",
    "if logits.shape == (BATCH_SIZE, NUM_CLASSES) and loss.item() > 0:\n",
    "    print(\"\\n✅ SUCCESS: The model completed a training step without errors!\")\n",
    "    print(\"Shapes are correct, loss was calculated, and weights were updated.\")\n",
    "else:\n",
    "    print(\"\\n❌ FAILURE: Something went wrong during the training step.\")"
   ]
  },
  {
   "cell_type": "code",
   "execution_count": 9,
   "id": "f22a99e4",
   "metadata": {},
   "outputs": [
    {
     "name": "stdout",
     "output_type": "stream",
     "text": [
      "cuda\n"
     ]
    }
   ],
   "source": [
    "device = \"cuda\" if torch.cuda.is_available() else \"cpu\"\n",
    "model = model.to(device)\n",
    "print(device)"
   ]
  },
  {
   "cell_type": "markdown",
   "id": "02969f45",
   "metadata": {},
   "source": [
    "### Day 4:The \"Time Machine\" ⏳: Building the SequenceDataset"
   ]
  },
  {
   "cell_type": "markdown",
   "id": "5847271b",
   "metadata": {},
   "source": [
    "This is the main event for Day 4. We're creating a custom PyTorch Dataset. This class is a bit of a beast, but it's the magic that turns our raw data into perfectly formatted batches for the GRU/LSTM."
   ]
  },
  {
   "cell_type": "code",
   "execution_count": 9,
   "id": "c327d711",
   "metadata": {},
   "outputs": [],
   "source": [
    "class SequenceDataset(Dataset):\n",
    "    \"\"\"\n",
    "    Custom PyTorch Dataset for user post sequences.\n",
    "    Groups posts by user, pads them to a fixed length, and creates an attention mask.\n",
    "    \"\"\"\n",
    "    def __init__(self, csv_file, max_seq_len=20):\n",
    "        self.df = pd.read_csv(csv_file)\n",
    "        self.max_seq_len = max_seq_len\n",
    "        \n",
    "        # We need a user_id column to group by!\n",
    "        self.df['user_id'] = np.where(\n",
    "            self.df['source'] == 'flickr', \n",
    "            'flickr_' + self.df['image_path'].str.split('\\\\\\\\').str[-1],\n",
    "            'memotion_' + self.df['image_path'].str.split('\\\\\\\\').str[-1]\n",
    "        )\n",
    "        \n",
    "        # --- THIS IS THE CORRECTED LINE ---\n",
    "        # We iterate through the groupby object to create a list of DataFrames.\n",
    "        self.users = [group_df for _, group_df in self.df.groupby('user_id')]\n",
    "        self.user_ids = self.df['user_id'].unique()\n",
    "\n",
    "    def __len__(self):\n",
    "        return len(self.user_ids)\n",
    "\n",
    "    def __getitem__(self, idx):\n",
    "        user_df = self.users[idx]\n",
    "        seq_len = len(user_df)\n",
    "\n",
    "        # --- FAKE DATA (for now) ---\n",
    "        D_FUSED = 512\n",
    "        z_fused_sequence = torch.randn(seq_len, D_FUSED)\n",
    "        labels = torch.randint(0, 4, (seq_len,))\n",
    "\n",
    "        # --- Padding & Masking ---\n",
    "        padded_sequence = torch.zeros(self.max_seq_len, D_FUSED)\n",
    "        padded_labels = torch.full((self.max_seq_len,), -100)\n",
    "        len_to_copy = min(seq_len, self.max_seq_len)\n",
    "        \n",
    "        padded_sequence[:len_to_copy] = z_fused_sequence[:len_to_copy]\n",
    "        padded_labels[:len_to_copy] = labels[:len_to_copy]\n",
    "\n",
    "        attention_mask = torch.zeros(self.max_seq_len, dtype=torch.float)\n",
    "        attention_mask[:len_to_copy] = 1.0\n",
    "        \n",
    "        return {\n",
    "            \"sequence\": padded_sequence,\n",
    "            \"targets\": padded_labels,\n",
    "            \"mask\": attention_mask\n",
    "        }"
   ]
  },
  {
   "cell_type": "markdown",
   "id": "02bbc560",
   "metadata": {},
   "source": [
    "#### Sanity Check ✅: Testing the DataLoader"
   ]
  },
  {
   "cell_type": "code",
   "execution_count": 10,
   "id": "d3a5f4f7",
   "metadata": {},
   "outputs": [
    {
     "name": "stdout",
     "output_type": "stream",
     "text": [
      "--- BATCH SHAPES ---\n",
      "Sequence shape: torch.Size([8, 20, 512])\n",
      "Labels shape:   torch.Size([8, 20])\n",
      "Mask shape:     torch.Size([8, 20])\n",
      "\n",
      "✅ SUCCESS: The DataLoader is producing correctly shaped batches!\n",
      "We are officially ready to train the sequence model on Day 5.\n"
     ]
    }
   ],
   "source": [
    "CSV_PATH = \"fusion_dataset_with_clip.csv\"\n",
    "MAX_SEQ_LEN = 20\n",
    "BATCH_SIZE = 8\n",
    "\n",
    "# --- Instantiate Dataset and DataLoader ---\n",
    "sequence_dataset = SequenceDataset(csv_file=CSV_PATH, max_seq_len=MAX_SEQ_LEN)\n",
    "dataloader = DataLoader(sequence_dataset, batch_size=BATCH_SIZE, shuffle=True)\n",
    "\n",
    "# --- Pull one batch ---\n",
    "one_batch = next(iter(dataloader))\n",
    "\n",
    "# --- Verification ---\n",
    "print(\"--- BATCH SHAPES ---\")\n",
    "print(f\"Sequence shape: {one_batch['sequence'].shape}\")\n",
    "print(f\"Labels shape:   {one_batch['targets'].shape}\")\n",
    "print(f\"Mask shape:     {one_batch['mask'].shape}\\n\")\n",
    "\n",
    "# --- Conclusion ---\n",
    "expected_seq_shape = (BATCH_SIZE, MAX_SEQ_LEN, 512)\n",
    "if one_batch['sequence'].shape == expected_seq_shape:\n",
    "    print(\"✅ SUCCESS: The DataLoader is producing correctly shaped batches!\")\n",
    "    print(\"We are officially ready to train the sequence model on Day 5.\")\n",
    "else:\n",
    "    print(f\"❌ FAILURE: Shape mismatch! Expected {expected_seq_shape} but got {one_batch['sequence'].shape}\")"
   ]
  },
  {
   "cell_type": "markdown",
   "id": "160eb5c4",
   "metadata": {},
   "source": [
    "### Day 5: 📈 The \"Soul\" Learns to See Patterns!"
   ]
  },
  {
   "cell_type": "code",
   "execution_count": 11,
   "id": "f8be5bbc",
   "metadata": {},
   "outputs": [],
   "source": [
    "class SequenceModel(nn.Module):\n",
    "    \"\"\"\n",
    "    A GRU-based model to predict a burnout risk score over a sequence of posts.\n",
    "    \"\"\"\n",
    "    def __init__(self, input_dim=512, hidden_dim=256, n_layers=2):\n",
    "        super().__init__()\n",
    "        self.gru = nn.GRU(\n",
    "            input_size=input_dim,\n",
    "            hidden_size=hidden_dim,\n",
    "            num_layers=n_layers,\n",
    "            batch_first=True,\n",
    "            dropout=0.2 if n_layers > 1 else 0\n",
    "        )\n",
    "        self.head = nn.Linear(hidden_dim, 1) # Predicts one number: the risk score\n",
    "\n",
    "    def forward(self, sequence):\n",
    "        # sequence shape: [batch_size, seq_len, input_dim]\n",
    "        gru_output, _ = self.gru(sequence)\n",
    "        # gru_output shape: [batch_size, seq_len, hidden_dim]\n",
    "        \n",
    "        # Pass the output of every timestep through the head\n",
    "        predictions = self.head(gru_output).squeeze(-1) # Squeeze to remove the last dim\n",
    "        # predictions shape: [batch_size, seq_len]\n",
    "        \n",
    "        return predictions"
   ]
  },
  {
   "cell_type": "markdown",
   "id": "a015a7a5",
   "metadata": {},
   "source": [
    "#### Sanity Check ✅: A Mini Training Loop for the \"Soul\""
   ]
  },
  {
   "cell_type": "code",
   "execution_count": 13,
   "id": "4e177e83",
   "metadata": {},
   "outputs": [
    {
     "name": "stdout",
     "output_type": "stream",
     "text": [
      "--- ⚙️ TRAINING STEP ⚙️ ---\n",
      "\n",
      "Predictions Shape (Full): torch.Size([8, 20])\n",
      "Targets Shape (Full):   torch.Size([8, 20])\n",
      "Mask Shape:             torch.Size([8, 20])\n",
      "\n",
      "Number of Active (Real) Points in Batch: 36\n",
      "Calculated Loss (on active points only): 3.2920\n",
      "\n",
      "✅ SUCCESS: The sequence model completed a training step!\n",
      "Data types are correct, and the model is learning.\n"
     ]
    }
   ],
   "source": [
    "# --- Configuration ---\n",
    "CSV_PATH = \"fusion_dataset_with_clip.csv\"\n",
    "MAX_SEQ_LEN = 20\n",
    "BATCH_SIZE = 8\n",
    "D_FUSED = 512\n",
    "HIDDEN_DIM = 256\n",
    "\n",
    "# --- Data ---\n",
    "# We use the corrected SequenceDataset class from the previous fix\n",
    "dataset = SequenceDataset(csv_file=CSV_PATH, max_seq_len=MAX_SEQ_LEN)\n",
    "dataloader = DataLoader(dataset, batch_size=BATCH_SIZE, shuffle=True)\n",
    "\n",
    "# --- Model, Loss, and Optimizer ---\n",
    "class SequenceModel(nn.Module):\n",
    "    def __init__(self, input_dim=512, hidden_dim=256, n_layers=2):\n",
    "        super().__init__()\n",
    "        self.gru = nn.GRU(input_dim, hidden_dim, n_layers, batch_first=True, dropout=0.2 if n_layers > 1 else 0)\n",
    "        self.head = nn.Linear(hidden_dim, 1)\n",
    "    def forward(self, sequence):\n",
    "        gru_output, _ = self.gru(sequence)\n",
    "        predictions = self.head(gru_output).squeeze(-1)\n",
    "        return predictions\n",
    "\n",
    "model = SequenceModel(input_dim=D_FUSED, hidden_dim=HIDDEN_DIM)\n",
    "loss_fn = nn.MSELoss()\n",
    "optimizer = torch.optim.AdamW(model.parameters(), lr=1e-4)\n",
    "\n",
    "# --- Fetch one batch ---\n",
    "batch = next(iter(dataloader))\n",
    "sequences = batch[\"sequence\"]\n",
    "# --- THE FIX IS HERE ---\n",
    "# We explicitly cast the targets and mask to the correct data types.\n",
    "targets = batch[\"targets\"].float() # <-- Ensure targets are float\n",
    "mask = batch[\"mask\"].float()       # <-- Ensure mask is also float for consistency\n",
    "\n",
    "# --- A Single Training Step ---\n",
    "print(\"--- ⚙️ TRAINING STEP ⚙️ ---\")\n",
    "optimizer.zero_grad()\n",
    "predictions = model(sequences)\n",
    "\n",
    "# --- MASKED LOSS CALCULATION ---\n",
    "active_predictions = predictions[mask == 1]\n",
    "active_targets = targets[mask == 1]\n",
    "loss = loss_fn(active_predictions, active_targets)\n",
    "\n",
    "loss.backward()\n",
    "optimizer.step()\n",
    "\n",
    "# --- 📈 VERIFICATION 📈 ---\n",
    "print(f\"\\nPredictions Shape (Full): {predictions.shape}\")\n",
    "print(f\"Targets Shape (Full):   {targets.shape}\")\n",
    "print(f\"Mask Shape:             {mask.shape}\\n\")\n",
    "print(f\"Number of Active (Real) Points in Batch: {int(mask.sum())}\")\n",
    "print(f\"Calculated Loss (on active points only): {loss.item():.4f}\\n\")\n",
    "\n",
    "if loss.item() > 0:\n",
    "    print(\"✅ SUCCESS: The sequence model completed a training step!\")\n",
    "    print(\"Data types are correct, and the model is learning.\")\n",
    "else:\n",
    "    print(\"❌ FAILURE: Something went wrong.\")"
   ]
  },
  {
   "cell_type": "markdown",
   "id": "2ef0e78c",
   "metadata": {},
   "source": [
    "### Day 6: The \"Reality Check\" Day! ⚖️"
   ]
  },
  {
   "cell_type": "markdown",
   "id": "33d471dc",
   "metadata": {},
   "source": [
    "#### Mission 1: Risk Calibration ⚖️\n",
    "\n",
    "Our GRU model outputs raw scores (logits) that aren't true probabilities. Calibration is the process of mapping these scores to real, reliable probabilities."
   ]
  },
  {
   "cell_type": "markdown",
   "id": "d452aa01",
   "metadata": {},
   "source": [
    "##### Step 1: Get Raw Model Outputs\n",
    "\n",
    "First, let's pretend we've run our trained SequenceModel on a validation set and collected all the active_predictions and active_targets."
   ]
  },
  {
   "cell_type": "code",
   "execution_count": 14,
   "id": "03fd0430",
   "metadata": {},
   "outputs": [],
   "source": [
    "# --- FAKE VALIDATION DATA (for demonstration) ---\n",
    "# In a real scenario, these would be the outputs from running your trained Day 5 model\n",
    "# on a held-out validation set.\n",
    "np.random.seed(42)\n",
    "raw_predictions = np.random.rand(1000) * 1.2 - 0.1 # Overconfident predictions\n",
    "true_outcomes = (raw_predictions + np.random.randn(1000) * 0.2 > 0.6).astype(int)\n",
    "\n",
    "# Clamp predictions to be within a valid range for probability inputs\n",
    "raw_predictions = np.clip(raw_predictions, 0.01, 0.99)"
   ]
  },
  {
   "cell_type": "markdown",
   "id": "4931f944",
   "metadata": {},
   "source": [
    "##### Step 2: Calibrate with Isotonic Regression\n",
    "\n",
    "Isotonic Regression is a powerful, non-parametric method. It finds the best possible step-function to remap our model's scores to true probabilities. It's great because it doesn't assume any specific shape for the calibration curve."
   ]
  },
  {
   "cell_type": "code",
   "execution_count": 17,
   "id": "f8f906ae",
   "metadata": {},
   "outputs": [
    {
     "name": "stdout",
     "output_type": "stream",
     "text": [
      "--- Isotonic Regression ---\n",
      "First 5 raw scores:      [0.349 0.99  0.778 0.618 0.087]\n",
      "First 5 calibrated scores: [0.173 0.99  0.862 0.682 0.   ]\n"
     ]
    }
   ],
   "source": [
    "# --- Isotonic Regression ---\n",
    "iso_reg = IsotonicRegression(y_min=0, y_max=1, out_of_bounds=\"clip\")\n",
    "iso_reg.fit(raw_predictions, true_outcomes)\n",
    "\n",
    "# Get the calibrated probabilities\n",
    "calibrated_iso = iso_reg.predict(raw_predictions)\n",
    "\n",
    "print(\"--- Isotonic Regression ---\")\n",
    "print(\"First 5 raw scores:     \", raw_predictions[:5].round(3))\n",
    "print(\"First 5 calibrated scores:\", calibrated_iso[:5].round(3))"
   ]
  },
  {
   "cell_type": "markdown",
   "id": "1d379071",
   "metadata": {},
   "source": [
    "##### Step 3: (Optional) Calibrate with Platt Scaling\n",
    "Platt Scaling is simpler. It just fits a logistic regression model to map your model's output to a probability. It's faster but less flexible than Isotonic Regression."
   ]
  },
  {
   "cell_type": "code",
   "execution_count": 18,
   "id": "227e7f16",
   "metadata": {},
   "outputs": [
    {
     "name": "stdout",
     "output_type": "stream",
     "text": [
      "\n",
      "--- Platt Scaling ---\n",
      "First 5 raw scores:     [0.349 0.99  0.778 0.618 0.087]\n",
      "First 5 calibrated scores: [0.168 0.95  0.809 0.576 0.03 ]\n"
     ]
    }
   ],
   "source": [
    "# --- Platt Scaling (Logistic Regression) ---\n",
    "platt_scaler = LogisticRegression()\n",
    "# Scikit-learn's LogisticRegression needs a 2D array, so we reshape\n",
    "platt_scaler.fit(raw_predictions.reshape(-1, 1), true_outcomes)\n",
    "\n",
    "# Get the calibrated probabilities\n",
    "calibrated_platt = platt_scaler.predict_proba(raw_predictions.reshape(-1, 1))[:, 1]\n",
    "\n",
    "print(\"\\n--- Platt Scaling ---\")\n",
    "print(\"First 5 raw scores:    \", raw_predictions[:5].round(3))\n",
    "print(\"First 5 calibrated scores:\", calibrated_platt[:5].round(3))"
   ]
  },
  {
   "cell_type": "markdown",
   "id": "d9ddeca5",
   "metadata": {},
   "source": [
    "#### Mission 2: Plotting Per-User Curves 📈\n",
    "\n",
    "This is the fun part! We'll visualize our model's performance on a single, hypothetical user to see if it's capturing the trend correctly."
   ]
  },
  {
   "cell_type": "code",
   "execution_count": 19,
   "id": "437cf09b",
   "metadata": {},
   "outputs": [
    {
     "data": {
      "image/png": "[encoded data removed]",
      "text/plain": [
       "<Figure size 1200x700 with 1 Axes>"
      ]
     },
     "metadata": {},
     "output_type": "display_data"
    }
   ],
   "source": [
    "# --- FAKE USER DATA (for demonstration) ---\n",
    "# Let's create a plausible story for one user over 20 posts\n",
    "time_steps = np.arange(20)\n",
    "# The \"ground truth\" EMA curve: starts low, spikes, then recovers\n",
    "true_risk_curve = 0.1 + 0.8 * np.sin(time_steps / 6) ** 4 + np.random.rand(20) * 0.1\n",
    "true_risk_curve = np.clip(true_risk_curve, 0, 1)\n",
    "\n",
    "# The model's (uncalibrated) prediction: it captures the trend but is overconfident\n",
    "model_prediction_curve = true_risk_curve * 1.1 - 0.05\n",
    "model_prediction_curve = np.clip(model_prediction_curve, 0, 1)\n",
    "\n",
    "# The model's (calibrated) prediction:\n",
    "calibrated_prediction_curve = iso_reg.predict(model_prediction_curve)\n",
    "\n",
    "\n",
    "# --- The Plot ---\n",
    "plt.style.use('seaborn-v0_8-whitegrid')\n",
    "fig, ax = plt.subplots(figsize=(12, 7))\n",
    "\n",
    "ax.plot(time_steps, true_risk_curve, 'o-', label='Target EMA Curve (Ground Truth)', color='skyblue', linewidth=2)\n",
    "ax.plot(time_steps, model_prediction_curve, 'o--', label='Model Raw Prediction', color='salmon', linewidth=2)\n",
    "ax.plot(time_steps, calibrated_prediction_curve, 'o-', label='Model Calibrated Prediction', color='darkgreen', linewidth=3)\n",
    "\n",
    "ax.set_title('Per-User Burnout Risk Trajectory', fontsize=18, fontweight='bold')\n",
    "ax.set_xlabel('Time Step (Post Number)', fontsize=12)\n",
    "ax.set_ylabel('Burnout Risk Score', fontsize=12)\n",
    "ax.set_ylim(0, 1.1)\n",
    "ax.legend(fontsize=11)\n",
    "ax.grid(True, which='both', linestyle='--', linewidth=0.5)\n",
    "\n",
    "plt.show()"
   ]
  },
  {
   "cell_type": "code",
   "execution_count": null,
   "id": "4c5fa112",
   "metadata": {},
   "outputs": [],
   "source": []
  }
 ],
 "metadata": {
  "kernelspec": {
   "display_name": "peerhive-env",
   "language": "python",
   "name": "peerhive-env"
  },
  "language_info": {
   "codemirror_mode": {
    "name": "ipython",
    "version": 3
   },
   "file_extension": ".py",
   "mimetype": "text/x-python",
   "name": "python",
   "nbconvert_exporter": "python",
   "pygments_lexer": "ipython3",
   "version": "3.11.7"
  }
 },
 "nbformat": 4,
 "nbformat_minor": 5
}
